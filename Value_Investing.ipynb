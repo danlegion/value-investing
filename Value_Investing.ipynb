{
  "nbformat": 4,
  "nbformat_minor": 0,
  "metadata": {
    "colab": {
      "name": "Value Investing.ipynb",
      "provenance": [],
      "collapsed_sections": [],
      "toc_visible": true,
      "authorship_tag": "ABX9TyP0rBAo9ovTmgAw/cuEuC6V",
      "include_colab_link": true
    },
    "kernelspec": {
      "name": "python3",
      "display_name": "Python 3"
    }
  },
  "cells": [
    {
      "cell_type": "markdown",
      "metadata": {
        "id": "view-in-github",
        "colab_type": "text"
      },
      "source": [
        "<a href=\"https://colab.research.google.com/github/danlegion/value-investing/blob/master/Value_Investing.ipynb\" target=\"_parent\"><img src=\"https://colab.research.google.com/assets/colab-badge.svg\" alt=\"Open In Colab\"/></a>"
      ]
    },
    {
      "cell_type": "markdown",
      "metadata": {
        "id": "fsbm3EcDlLgT",
        "colab_type": "text"
      },
      "source": [
        "# **Value Investing Analysis**"
      ]
    },
    {
      "cell_type": "markdown",
      "metadata": {
        "id": "4O9KPMdLx_Kh",
        "colab_type": "text"
      },
      "source": [
        "# Glossary"
      ]
    },
    {
      "cell_type": "markdown",
      "metadata": {
        "id": "ZtJEgRNtyRqx",
        "colab_type": "text"
      },
      "source": [
        "- **Net Income**:  revenues minus expenses, interest, and taxes.\n",
        "- **Equity**: Value of the business if it were closed\n",
        "down and all its assets were sold\n",
        "(assets minus liabilities). \n",
        "Amount of money that would be returned to a company’s shareholders if all of the assets were liquidated and all of the company's debt was paid off"
      ]
    },
    {
      "cell_type": "markdown",
      "metadata": {
        "id": "hCHHcHoolb7h",
        "colab_type": "text"
      },
      "source": [
        "# Imports"
      ]
    },
    {
      "cell_type": "code",
      "metadata": {
        "id": "sWIvv72clFFw",
        "colab_type": "code",
        "colab": {
          "base_uri": "https://localhost:8080/",
          "height": 292
        },
        "outputId": "3dcc9f4d-e378-4d88-969e-c8063781a25c"
      },
      "source": [
        "!pip install simfin"
      ],
      "execution_count": null,
      "outputs": [
        {
          "output_type": "stream",
          "text": [
            "Collecting simfin\n",
            "\u001b[?25l  Downloading https://files.pythonhosted.org/packages/bb/75/33d1779bdb3ccc078af4fbd89eb354d39faa172630a1a485d471cfd39d23/simfin-0.7.0-py3-none-any.whl (59kB)\n",
            "\r\u001b[K     |█████▌                          | 10kB 16.6MB/s eta 0:00:01\r\u001b[K     |███████████                     | 20kB 1.7MB/s eta 0:00:01\r\u001b[K     |████████████████▌               | 30kB 2.0MB/s eta 0:00:01\r\u001b[K     |██████████████████████          | 40kB 2.3MB/s eta 0:00:01\r\u001b[K     |███████████████████████████▍    | 51kB 1.9MB/s eta 0:00:01\r\u001b[K     |████████████████████████████████| 61kB 1.8MB/s \n",
            "\u001b[?25hRequirement already satisfied: requests in /usr/local/lib/python3.6/dist-packages (from simfin) (2.23.0)\n",
            "Requirement already satisfied: pandas in /usr/local/lib/python3.6/dist-packages (from simfin) (1.0.5)\n",
            "Requirement already satisfied: numpy in /usr/local/lib/python3.6/dist-packages (from simfin) (1.18.5)\n",
            "Requirement already satisfied: certifi>=2017.4.17 in /usr/local/lib/python3.6/dist-packages (from requests->simfin) (2020.4.5.2)\n",
            "Requirement already satisfied: idna<3,>=2.5 in /usr/local/lib/python3.6/dist-packages (from requests->simfin) (2.9)\n",
            "Requirement already satisfied: urllib3!=1.25.0,!=1.25.1,<1.26,>=1.21.1 in /usr/local/lib/python3.6/dist-packages (from requests->simfin) (1.24.3)\n",
            "Requirement already satisfied: chardet<4,>=3.0.2 in /usr/local/lib/python3.6/dist-packages (from requests->simfin) (3.0.4)\n",
            "Requirement already satisfied: python-dateutil>=2.6.1 in /usr/local/lib/python3.6/dist-packages (from pandas->simfin) (2.8.1)\n",
            "Requirement already satisfied: pytz>=2017.2 in /usr/local/lib/python3.6/dist-packages (from pandas->simfin) (2018.9)\n",
            "Requirement already satisfied: six>=1.5 in /usr/local/lib/python3.6/dist-packages (from python-dateutil>=2.6.1->pandas->simfin) (1.12.0)\n",
            "Installing collected packages: simfin\n",
            "Successfully installed simfin-0.7.0\n"
          ],
          "name": "stdout"
        }
      ]
    },
    {
      "cell_type": "code",
      "metadata": {
        "id": "jOjzSZFgluvn",
        "colab_type": "code",
        "colab": {
          "base_uri": "https://localhost:8080/",
          "height": 34
        },
        "outputId": "c7c16bb6-b208-46d6-9f90-ad455179a39d"
      },
      "source": [
        "%matplotlib inline\n",
        "import matplotlib.pyplot as plt\n",
        "import pandas as pd\n",
        "import seaborn as sns\n",
        "\n",
        "# Import the main functionality from the SimFin Python API.\n",
        "import simfin as sf\n",
        "\n",
        "# Import names used for easy access to SimFin's data-columns.\n",
        "from simfin.names import *\n",
        "\n",
        "# Version of the SimFin Python API.\n",
        "sf.__version__"
      ],
      "execution_count": null,
      "outputs": [
        {
          "output_type": "execute_result",
          "data": {
            "text/plain": [
              "'0.7.0'"
            ]
          },
          "metadata": {
            "tags": []
          },
          "execution_count": 8
        }
      ]
    },
    {
      "cell_type": "markdown",
      "metadata": {
        "id": "YyBKVF6wldAC",
        "colab_type": "text"
      },
      "source": [
        "# Config"
      ]
    },
    {
      "cell_type": "code",
      "metadata": {
        "id": "BP5OOqc1mACQ",
        "colab_type": "code",
        "colab": {}
      },
      "source": [
        "# SimFin data-directory.\n",
        "sf.set_data_dir('~/simfin_data/')\n",
        "\n",
        "# SimFin load API key or use free data.\n",
        "sf.load_api_key(path='~/simfin_api_key.txt', default_key='free')\n",
        "\n",
        "# Seaborn set plotting style.\n",
        "sns.set_style(\"whitegrid\")"
      ],
      "execution_count": null,
      "outputs": []
    },
    {
      "cell_type": "markdown",
      "metadata": {
        "id": "DPCvLEc4mIhy",
        "colab_type": "text"
      },
      "source": [
        "# Load Datasets"
      ]
    },
    {
      "cell_type": "code",
      "metadata": {
        "id": "fItbAUxpmMZy",
        "colab_type": "code",
        "colab": {
          "base_uri": "https://localhost:8080/",
          "height": 255
        },
        "outputId": "2ae75a0f-cadc-44b6-8bdc-162547017271"
      },
      "source": [
        "%%time\n",
        "# Data for USA.\n",
        "market = 'us'\n",
        "\n",
        "# Annual Income Statements.\n",
        "df_income = sf.load_income_banks(variant='annual', market=market)\n",
        "\n",
        "# Annual Balancesheet Statements.\n",
        "df_balance = sf.load_balance_banks(variant='annual', market=market)\n",
        "\n",
        "#Annual Cash Flow Statements.\n",
        "df_cashflow = sf.load_cashflow_banks(variant='annual', market=market)"
      ],
      "execution_count": null,
      "outputs": [
        {
          "output_type": "stream",
          "text": [
            "Dataset \"us-income-banks-annual\" not on disk.\n",
            "- Downloading ... 100.0%\n",
            "- Extracting zip-file ... Done!\n",
            "- Loading from disk ... Done!\n",
            "Dataset \"us-balance-banks-annual\" not on disk.\n",
            "- Downloading ... 100.0%\n",
            "- Extracting zip-file ... Done!\n",
            "- Loading from disk ... Done!\n",
            "Dataset \"us-cashflow-banks-annual\" not on disk.\n",
            "- Downloading ... 100.0%\n",
            "- Extracting zip-file ... Done!\n",
            "- Loading from disk ... Done!\n",
            "CPU times: user 126 ms, sys: 11.6 ms, total: 137 ms\n",
            "Wall time: 6.15 s\n"
          ],
          "name": "stdout"
        }
      ]
    },
    {
      "cell_type": "markdown",
      "metadata": {
        "id": "qARqtjpJnw8K",
        "colab_type": "text"
      },
      "source": [
        "# Viewing Data"
      ]
    },
    {
      "cell_type": "code",
      "metadata": {
        "id": "cwpugaRLoQmI",
        "colab_type": "code",
        "colab": {}
      },
      "source": [
        "# set ticker(s) to review\n",
        "ticker = 'BAC'"
      ],
      "execution_count": null,
      "outputs": []
    },
    {
      "cell_type": "markdown",
      "metadata": {
        "id": "b9iMSQUYn4VX",
        "colab_type": "text"
      },
      "source": [
        "## Moat - Big Four\n",
        "Looking for 10%+ growth on the next 4 following numbers\n",
        "\n",
        "TODO: show graphs"
      ]
    },
    {
      "cell_type": "code",
      "metadata": {
        "id": "4-soanjaomio",
        "colab_type": "code",
        "colab": {
          "base_uri": "https://localhost:8080/",
          "height": 994
        },
        "outputId": "fab5c394-cd5a-42a6-a21e-5d6fe96d1364"
      },
      "source": [
        "# Net Income & Sales (Revenue)\n",
        "iar = df_income.loc[ticker, [NET_INCOME, REVENUE]]\n",
        "print(iar)\n",
        "iar.plot(grid=True, marker=\"o\")\n",
        "plt.show()\n",
        "print(iar.pct_change())\n",
        "iar.pct_change().plot(grid=True, marker=\"o\")\n",
        "plt.show()"
      ],
      "execution_count": null,
      "outputs": [
        {
          "output_type": "stream",
          "text": [
            "              Net Income       Revenue\n",
            "Report Date                           \n",
            "2008-12-31    4008000000   72782000000\n",
            "2009-12-31    6276000000  119643000000\n",
            "2010-12-31   -2238000000  110220000000\n",
            "2011-12-31    1446000000   93454000000\n",
            "2012-12-31    4188000000   83334000000\n",
            "2013-12-31   11431000000   88942000000\n",
            "2014-12-31    5520000000   85894000000\n",
            "2015-12-31   15836000000   82965000000\n",
            "2016-12-31   17906000000   83701000000\n",
            "2017-12-31   18232000000   87352000000\n",
            "2018-12-31   28147000000   91247000000\n"
          ],
          "name": "stdout"
        },
        {
          "output_type": "display_data",
          "data": {
            "image/png": "[encoded data removed]",
            "text/plain": [
              "<Figure size 432x288 with 1 Axes>"
            ]
          },
          "metadata": {
            "tags": []
          }
        },
        {
          "output_type": "stream",
          "text": [
            "             Net Income   Revenue\n",
            "Report Date                      \n",
            "2008-12-31          NaN       NaN\n",
            "2009-12-31     0.565868  0.643854\n",
            "2010-12-31    -1.356597 -0.078759\n",
            "2011-12-31    -1.646113 -0.152114\n",
            "2012-12-31     1.896266 -0.108289\n",
            "2013-12-31     1.729465  0.067295\n",
            "2014-12-31    -0.517103 -0.034270\n",
            "2015-12-31     1.868841 -0.034100\n",
            "2016-12-31     0.130715  0.008871\n",
            "2017-12-31     0.018206  0.043620\n",
            "2018-12-31     0.543824  0.044590\n"
          ],
          "name": "stdout"
        },
        {
          "output_type": "display_data",
          "data": {
            "image/png": "[encoded data removed]",
            "text/plain": [
              "<Figure size 432x288 with 1 Axes>"
            ]
          },
          "metadata": {
            "tags": []
          }
        }
      ]
    },
    {
      "cell_type": "code",
      "metadata": {
        "id": "GQtVvywgnz6h",
        "colab_type": "code",
        "colab": {
          "base_uri": "https://localhost:8080/",
          "height": 994
        },
        "outputId": "ef139147-a23a-44a8-90c0-68c6613a0da1"
      },
      "source": [
        "# Operating Cash or Cash from operating activities\n",
        "cash = df_cashflow.loc[ticker,\t[NET_CASH_OPS]]\n",
        "print(cash)\n",
        "cash.plot(grid=True, marker=\"o\")\n",
        "plt.show()\n",
        "print(cash.pct_change())\n",
        "cash.pct_change().plot(grid=True, marker=\"o\")\n",
        "plt.show()"
      ],
      "execution_count": null,
      "outputs": [
        {
          "output_type": "stream",
          "text": [
            "             Net Cash from Operating Activities\n",
            "Report Date                                    \n",
            "2008-12-31                           4034000000\n",
            "2009-12-31                         129731000000\n",
            "2010-12-31                          82541000000\n",
            "2011-12-31                          64448000000\n",
            "2012-12-31                         -16056000000\n",
            "2013-12-31                          92817000000\n",
            "2014-12-31                          30795000000\n",
            "2015-12-31                          28347000000\n",
            "2016-12-31                          18306000000\n",
            "2017-12-31                          10403000000\n",
            "2018-12-31                          39520000000\n"
          ],
          "name": "stdout"
        },
        {
          "output_type": "display_data",
          "data": {
            "image/png": "[encoded data removed]",
            "text/plain": [
              "<Figure size 432x288 with 1 Axes>"
            ]
          },
          "metadata": {
            "tags": []
          }
        },
        {
          "output_type": "stream",
          "text": [
            "             Net Cash from Operating Activities\n",
            "Report Date                                    \n",
            "2008-12-31                                  NaN\n",
            "2009-12-31                            31.159395\n",
            "2010-12-31                            -0.363753\n",
            "2011-12-31                            -0.219200\n",
            "2012-12-31                            -1.249131\n",
            "2013-12-31                            -6.780830\n",
            "2014-12-31                            -0.668218\n",
            "2015-12-31                            -0.079493\n",
            "2016-12-31                            -0.354217\n",
            "2017-12-31                            -0.431716\n",
            "2018-12-31                             2.798904\n"
          ],
          "name": "stdout"
        },
        {
          "output_type": "display_data",
          "data": {
            "image/png": "[encoded data removed]",
            "text/plain": [
              "<Figure size 432x288 with 1 Axes>"
            ]
          },
          "metadata": {
            "tags": []
          }
        }
      ]
    },
    {
      "cell_type": "code",
      "metadata": {
        "id": "w5kGQcJApNrq",
        "colab_type": "code",
        "colab": {
          "base_uri": "https://localhost:8080/",
          "height": 1000
        },
        "outputId": "7a93c0a8-d5f5-458b-91a5-b15e0f0473a6"
      },
      "source": [
        "# Book value or Equity (Assets - Liabilities) + Dividendes (next row)\n",
        "equity = df_balance.loc[ticker,\t[TOTAL_EQUITY]] + df_cashflow.loc[ticker,\t[DIVIDENDS_PAID]]\n",
        "print(equity)\n",
        "equity.plot(grid=True, marker = \"o\")\n",
        "plt.show()\n",
        "\n",
        "print(equity.pct_change())\n",
        "equity.pct_change().plot(grid=True, marker = \"o\")"
      ],
      "execution_count": null,
      "outputs": [
        {
          "output_type": "stream",
          "text": [
            "             Dividends Paid  Total Equity\n",
            "Report Date                              \n",
            "2008-12-31              NaN           NaN\n",
            "2009-12-31              NaN           NaN\n",
            "2010-12-31              NaN           NaN\n",
            "2011-12-31              NaN           NaN\n",
            "2012-12-31              NaN           NaN\n",
            "2013-12-31              NaN           NaN\n",
            "2014-12-31              NaN           NaN\n",
            "2015-12-31              NaN           NaN\n",
            "2016-12-31              NaN           NaN\n",
            "2017-12-31              NaN           NaN\n",
            "2018-12-31              NaN           NaN\n"
          ],
          "name": "stdout"
        },
        {
          "output_type": "display_data",
          "data": {
            "image/png": "[encoded data removed]",
            "text/plain": [
              "<Figure size 432x288 with 1 Axes>"
            ]
          },
          "metadata": {
            "tags": []
          }
        },
        {
          "output_type": "stream",
          "text": [
            "             Dividends Paid  Total Equity\n",
            "Report Date                              \n",
            "2008-12-31              NaN           NaN\n",
            "2009-12-31              NaN           NaN\n",
            "2010-12-31              NaN           NaN\n",
            "2011-12-31              NaN           NaN\n",
            "2012-12-31              NaN           NaN\n",
            "2013-12-31              NaN           NaN\n",
            "2014-12-31              NaN           NaN\n",
            "2015-12-31              NaN           NaN\n",
            "2016-12-31              NaN           NaN\n",
            "2017-12-31              NaN           NaN\n",
            "2018-12-31              NaN           NaN\n"
          ],
          "name": "stdout"
        },
        {
          "output_type": "execute_result",
          "data": {
            "text/plain": [
              "<matplotlib.axes._subplots.AxesSubplot at 0x7fd705148ac8>"
            ]
          },
          "metadata": {
            "tags": []
          },
          "execution_count": 26
        },
        {
          "output_type": "display_data",
          "data": {
            "image/png": "[encoded data removed]",
            "text/plain": [
              "<Figure size 432x288 with 1 Axes>"
            ]
          },
          "metadata": {
            "tags": []
          }
        }
      ]
    },
    {
      "cell_type": "code",
      "metadata": {
        "id": "wASPAUPftlsG",
        "colab_type": "code",
        "colab": {
          "base_uri": "https://localhost:8080/",
          "height": 390
        },
        "outputId": "8885043b-c37b-4b8f-b816-fa8bca70162a"
      },
      "source": [
        "#Dividends (shoud sum to equity)\n",
        "df_cashflow.loc[ticker,\t[DIVIDENDS_PAID]].head(10)"
      ],
      "execution_count": null,
      "outputs": [
        {
          "output_type": "execute_result",
          "data": {
            "text/html": [
              "<div>\n",
              "<style scoped>\n",
              "    .dataframe tbody tr th:only-of-type {\n",
              "        vertical-align: middle;\n",
              "    }\n",
              "\n",
              "    .dataframe tbody tr th {\n",
              "        vertical-align: top;\n",
              "    }\n",
              "\n",
              "    .dataframe thead th {\n",
              "        text-align: right;\n",
              "    }\n",
              "</style>\n",
              "<table border=\"1\" class=\"dataframe\">\n",
              "  <thead>\n",
              "    <tr style=\"text-align: right;\">\n",
              "      <th></th>\n",
              "      <th>Dividends Paid</th>\n",
              "    </tr>\n",
              "    <tr>\n",
              "      <th>Report Date</th>\n",
              "      <th></th>\n",
              "    </tr>\n",
              "  </thead>\n",
              "  <tbody>\n",
              "    <tr>\n",
              "      <th>2008-12-31</th>\n",
              "      <td>-1.152800e+10</td>\n",
              "    </tr>\n",
              "    <tr>\n",
              "      <th>2009-12-31</th>\n",
              "      <td>-4.986300e+10</td>\n",
              "    </tr>\n",
              "    <tr>\n",
              "      <th>2010-12-31</th>\n",
              "      <td>-1.762000e+09</td>\n",
              "    </tr>\n",
              "    <tr>\n",
              "      <th>2011-12-31</th>\n",
              "      <td>-1.738000e+09</td>\n",
              "    </tr>\n",
              "    <tr>\n",
              "      <th>2012-12-31</th>\n",
              "      <td>-1.909000e+09</td>\n",
              "    </tr>\n",
              "    <tr>\n",
              "      <th>2013-12-31</th>\n",
              "      <td>-8.138000e+09</td>\n",
              "    </tr>\n",
              "    <tr>\n",
              "      <th>2014-12-31</th>\n",
              "      <td>-2.306000e+09</td>\n",
              "    </tr>\n",
              "    <tr>\n",
              "      <th>2015-12-31</th>\n",
              "      <td>-3.574000e+09</td>\n",
              "    </tr>\n",
              "    <tr>\n",
              "      <th>2016-12-31</th>\n",
              "      <td>-4.194000e+09</td>\n",
              "    </tr>\n",
              "    <tr>\n",
              "      <th>2017-12-31</th>\n",
              "      <td>-5.700000e+09</td>\n",
              "    </tr>\n",
              "  </tbody>\n",
              "</table>\n",
              "</div>"
            ],
            "text/plain": [
              "             Dividends Paid\n",
              "Report Date                \n",
              "2008-12-31    -1.152800e+10\n",
              "2009-12-31    -4.986300e+10\n",
              "2010-12-31    -1.762000e+09\n",
              "2011-12-31    -1.738000e+09\n",
              "2012-12-31    -1.909000e+09\n",
              "2013-12-31    -8.138000e+09\n",
              "2014-12-31    -2.306000e+09\n",
              "2015-12-31    -3.574000e+09\n",
              "2016-12-31    -4.194000e+09\n",
              "2017-12-31    -5.700000e+09"
            ]
          },
          "metadata": {
            "tags": []
          },
          "execution_count": 20
        }
      ]
    },
    {
      "cell_type": "markdown",
      "metadata": {
        "id": "PsW6HBgHtCxW",
        "colab_type": "text"
      },
      "source": [
        "Calculate windage\n",
        " - Likeliness to continue growing\n",
        "  This is a\n",
        "judgment call you’re going to have to make based on your research. You\n",
        "have to choose what you think is the most likely growth rate going into the\n",
        "future. Remember, all the numbers you have are in the past and there’s no\n",
        "guarantee they will continue. Only your understanding of the company will\n",
        "let you make an educated guess about how much this company will grow\n",
        "\n"
      ]
    },
    {
      "cell_type": "code",
      "metadata": {
        "id": "9i7xD949vXU7",
        "colab_type": "code",
        "colab": {}
      },
      "source": [
        "windage = 0"
      ],
      "execution_count": null,
      "outputs": []
    },
    {
      "cell_type": "markdown",
      "metadata": {
        "id": "cR2z5lhSs0NJ",
        "colab_type": "text"
      },
      "source": [
        "## Management Numbers\n",
        "Looking for an **ROE and ROIC at 15%+ or better each year**, for the last **ten years** or so."
      ]
    },
    {
      "cell_type": "markdown",
      "metadata": {
        "id": "tbhriFWMwOsq",
        "colab_type": "text"
      },
      "source": [
        "**Return on Equiti (ROE) = Net Income / Equity**\n",
        " It calculates how many dollars of profit a\n",
        "company generates with each dollar of shareholder equity, which tells us if\n",
        "the management is doing a good job with our money"
      ]
    },
    {
      "cell_type": "code",
      "metadata": {
        "id": "ldUVfZmpwGbp",
        "colab_type": "code",
        "colab": {
          "base_uri": "https://localhost:8080/",
          "height": 697
        },
        "outputId": "459aecc5-7ee9-42ab-e194-9b7f02d5870e"
      },
      "source": [
        "# Return on Equiti (ROE) = Net Income / Equity\n",
        "print(iar[NET_INCOME])\n",
        "print( equity[TOTAL_EQUITY])\n",
        "a = iar[NET_INCOME] / equity[TOTAL_EQUITY]\n",
        "print(\"ROE\")\n",
        "print(a)"
      ],
      "execution_count": null,
      "outputs": [
        {
          "output_type": "stream",
          "text": [
            "Report Date\n",
            "2008-12-31     4008000000\n",
            "2009-12-31     6276000000\n",
            "2010-12-31    -2238000000\n",
            "2011-12-31     1446000000\n",
            "2012-12-31     4188000000\n",
            "2013-12-31    11431000000\n",
            "2014-12-31     5520000000\n",
            "2015-12-31    15836000000\n",
            "2016-12-31    17906000000\n",
            "2017-12-31    18232000000\n",
            "2018-12-31    28147000000\n",
            "Name: Net Income, dtype: int64\n",
            "Report Date\n",
            "2008-12-31   NaN\n",
            "2009-12-31   NaN\n",
            "2010-12-31   NaN\n",
            "2011-12-31   NaN\n",
            "2012-12-31   NaN\n",
            "2013-12-31   NaN\n",
            "2014-12-31   NaN\n",
            "2015-12-31   NaN\n",
            "2016-12-31   NaN\n",
            "2017-12-31   NaN\n",
            "2018-12-31   NaN\n",
            "Name: Total Equity, dtype: float64\n",
            "ROE\n",
            "Report Date\n",
            "2008-12-31   NaN\n",
            "2009-12-31   NaN\n",
            "2010-12-31   NaN\n",
            "2011-12-31   NaN\n",
            "2012-12-31   NaN\n",
            "2013-12-31   NaN\n",
            "2014-12-31   NaN\n",
            "2015-12-31   NaN\n",
            "2016-12-31   NaN\n",
            "2017-12-31   NaN\n",
            "2018-12-31   NaN\n",
            "dtype: float64\n"
          ],
          "name": "stdout"
        }
      ]
    },
    {
      "cell_type": "markdown",
      "metadata": {
        "id": "qRIgG51ywr0v",
        "colab_type": "text"
      },
      "source": [
        "**RETURN ON INVESTED CAPITAL (ROIC) = NET INCOME /\n",
        "(EQUITY + DEBT)**\n",
        "\n",
        "\n"
      ]
    },
    {
      "cell_type": "code",
      "metadata": {
        "id": "7nQ-qtRez5f7",
        "colab_type": "code",
        "colab": {}
      },
      "source": [
        "# ROIC\n"
      ],
      "execution_count": null,
      "outputs": []
    },
    {
      "cell_type": "markdown",
      "metadata": {
        "id": "DO5WISxFxvm1",
        "colab_type": "text"
      },
      "source": [
        "**Debt**\n",
        "\n",
        "Lowest at possible.\n",
        "\n",
        "To be no more than 2x yearly earning, aka should be able to pay with 1-2 years of earnings"
      ]
    },
    {
      "cell_type": "code",
      "metadata": {
        "id": "YlptcPWgz3SM",
        "colab_type": "code",
        "colab": {
          "base_uri": "https://localhost:8080/",
          "height": 511
        },
        "outputId": "5a4c68cd-f6ba-438e-f7ee-89e13c8a0050"
      },
      "source": [
        "# Debt\n",
        "debt = df_balance.loc[ticker, [LT_DEBT]].head(11)\n",
        "print(debt)\n",
        "debt.plot(grid=True)\n",
        "plt.show()"
      ],
      "execution_count": null,
      "outputs": [
        {
          "output_type": "stream",
          "text": [
            "             Long Term Debt\n",
            "Report Date                \n",
            "2008-12-31     2.682920e+11\n",
            "2009-12-31     4.385210e+11\n",
            "2010-12-31     4.484310e+11\n",
            "2011-12-31     3.722650e+11\n",
            "2012-12-31     2.755850e+11\n",
            "2013-12-31     2.496740e+11\n",
            "2014-12-31     2.431390e+11\n",
            "2015-12-31     2.367640e+11\n",
            "2016-12-31     2.168230e+11\n",
            "2017-12-31     2.274020e+11\n",
            "2018-12-31     2.293400e+11\n"
          ],
          "name": "stdout"
        },
        {
          "output_type": "display_data",
          "data": {
            "image/png": "[encoded data removed]",
            "text/plain": [
              "<Figure size 432x288 with 1 Axes>"
            ]
          },
          "metadata": {
            "tags": []
          }
        }
      ]
    },
    {
      "cell_type": "code",
      "metadata": {
        "id": "zyzBuwkTrAxf",
        "colab_type": "code",
        "colab": {}
      },
      "source": [
        ""
      ],
      "execution_count": null,
      "outputs": []
    }
  ]
}